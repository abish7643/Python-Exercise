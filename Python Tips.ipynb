{
 "cells": [
  {
   "cell_type": "markdown",
   "metadata": {},
   "source": [
    "## String to Int & Vice Versa Conversion"
   ]
  },
  {
   "cell_type": "code",
   "execution_count": 121,
   "metadata": {},
   "outputs": [
    {
     "name": "stdout",
     "output_type": "stream",
     "text": [
      "-----------Think More, Code Less-----------\n"
     ]
    }
   ],
   "source": [
    "print(\"-----------Think More, Code Less-----------\")"
   ]
  },
  {
   "cell_type": "code",
   "execution_count": 122,
   "metadata": {},
   "outputs": [
    {
     "name": "stdout",
     "output_type": "stream",
     "text": [
      "1245789\n",
      "<class 'str'>\n"
     ]
    }
   ],
   "source": [
    "number = 1245789\n",
    "number_to_string = str(number)\n",
    "\n",
    "print(number_to_string)\n",
    "print(type(number_to_string))"
   ]
  },
  {
   "cell_type": "code",
   "execution_count": 123,
   "metadata": {},
   "outputs": [
    {
     "name": "stdout",
     "output_type": "stream",
     "text": [
      "1245789\n",
      "<class 'int'>\n"
     ]
    }
   ],
   "source": [
    "string = '1245789'\n",
    "string_to_number = int(string)\n",
    "\n",
    "print(string_to_number)\n",
    "print(type(string_to_number))"
   ]
  },
  {
   "cell_type": "code",
   "execution_count": 124,
   "metadata": {},
   "outputs": [
    {
     "name": "stdout",
     "output_type": "stream",
     "text": [
      "70\n",
      "4030\n"
     ]
    }
   ],
   "source": [
    "number = 30\n",
    "string = '40'\n",
    "\n",
    "number_addition = int(string) + number\n",
    "string_addition = string + str(number)\n",
    "\n",
    "print(number_addition)\n",
    "print(string_addition)"
   ]
  },
  {
   "cell_type": "markdown",
   "metadata": {},
   "source": [
    "#### Activity - Check Number Whether Palindrome"
   ]
  },
  {
   "cell_type": "code",
   "execution_count": 125,
   "metadata": {},
   "outputs": [
    {
     "name": "stdout",
     "output_type": "stream",
     "text": [
      "---99299 is a palindrome number----\n",
      "99299\n"
     ]
    }
   ],
   "source": [
    "number = 99299 #Number To be Checked\n",
    "\n",
    "number_to_string = str(number)\n",
    "reversed_number_to_string = number_to_string[::-1]\n",
    "\n",
    "if number_to_string == reversed_number_to_string:\n",
    "    print(\"---{} is a palindrome number----\".format(number))\n",
    "else:\n",
    "    print(\"Not A Palindrome Number\")\n",
    "\n",
    "print(reversed_number_to_string)"
   ]
  },
  {
   "cell_type": "markdown",
   "metadata": {},
   "source": [
    "#### Activity - Check Number Whether Armstrong"
   ]
  },
  {
   "cell_type": "code",
   "execution_count": 19,
   "metadata": {},
   "outputs": [
    {
     "name": "stdout",
     "output_type": "stream",
     "text": [
      "------153 is a Armstrong Number-----\n"
     ]
    },
    {
     "data": {
      "text/plain": [
       "1"
      ]
     },
     "execution_count": 19,
     "metadata": {},
     "output_type": "execute_result"
    }
   ],
   "source": [
    "from math import pow\n",
    "\n",
    "def checkArmstrong(number):\n",
    "    string = str(number)\n",
    "    sum_of_digits = 0\n",
    "    for i in string:\n",
    "        i = int(i)\n",
    "        cube_digit = int(pow(i, 3)) #Equivalent to digit * digit * digit\n",
    "        sum_of_digits += cube_digit\n",
    "    if sum_of_digits == number:\n",
    "        print(\"------{} is a Armstrong Number-----\".format(number))\n",
    "        return 1\n",
    "    else:\n",
    "        print(\"-----{} not an Armstrong Number----\".format(number))\n",
    "        return 0\n",
    "    \n",
    "n = 153\n",
    "checkArmstrong(n)\n",
    "    "
   ]
  },
  {
   "cell_type": "markdown",
   "metadata": {},
   "source": [
    "## for loop and if - elif - else"
   ]
  },
  {
   "cell_type": "code",
   "execution_count": 126,
   "metadata": {},
   "outputs": [
    {
     "name": "stdout",
     "output_type": "stream",
     "text": [
      "-----0-----\n",
      "-----1-----\n",
      "-----2-----\n",
      "-----3-----\n",
      "-----4-----\n",
      "-----5-----\n",
      "---------Next----------\n",
      "-----2-----\n",
      "-----3-----\n",
      "-----4-----\n",
      "-----5-----\n",
      "---------Reverse----------\n",
      "-----6-----\n",
      "-----5-----\n",
      "-----4-----\n",
      "-----3-----\n"
     ]
    }
   ],
   "source": [
    "for i in range(6):\n",
    "    print(\"-----{}-----\".format(i))\n",
    "    \n",
    "print(\"---------Next----------\")\n",
    "\n",
    "for i in range(2,6):\n",
    "    print(\"-----{}-----\".format(i))\n",
    "    \n",
    "print(\"---------Reverse----------\")\n",
    "    \n",
    "for j in range(6, 2, -1):\n",
    "    print(\"-----{}-----\".format(j))\n",
    "    "
   ]
  },
  {
   "cell_type": "code",
   "execution_count": 127,
   "metadata": {},
   "outputs": [
    {
     "name": "stdout",
     "output_type": "stream",
     "text": [
      "-----2-----\n",
      "-----4-----\n",
      "---------Reverse----------\n",
      "-----6-----\n",
      "-----4-----\n"
     ]
    }
   ],
   "source": [
    "for i in range(2, 6, 2):\n",
    "    print(\"-----{}-----\".format(i))\n",
    "    \n",
    "print(\"---------Reverse----------\")\n",
    "\n",
    "for j in range(6, 2, -2):\n",
    "    print(\"-----{}-----\".format(j))"
   ]
  },
  {
   "cell_type": "code",
   "execution_count": 128,
   "metadata": {
    "scrolled": true
   },
   "outputs": [
    {
     "name": "stdout",
     "output_type": "stream",
     "text": [
      "------H------\n",
      "------e------\n",
      "------y------\n",
      "------ ------\n",
      "------G------\n",
      "------u------\n",
      "------y------\n",
      "------s------\n"
     ]
    }
   ],
   "source": [
    " for i in \"Hey Guys\":\n",
    "    print(\"------{}------\".format(i))"
   ]
  },
  {
   "cell_type": "code",
   "execution_count": 143,
   "metadata": {},
   "outputs": [
    {
     "name": "stdout",
     "output_type": "stream",
     "text": [
      "Hey\n",
      "Guys\n",
      "This\n",
      "is\n",
      "Linus\n",
      "Tech Tips\n"
     ]
    }
   ],
   "source": [
    "array = ['Hey', 'Guys', 'This', 'is', 'Austin', 'Evans']\n",
    "\n",
    "for AustinSays in array:\n",
    "    if AustinSays == 'Austin':\n",
    "        print('Linus')\n",
    "    elif AustinSays == 'Evans':\n",
    "        print('Tech Tips')\n",
    "    else:\n",
    "        print(AustinSays)"
   ]
  },
  {
   "cell_type": "code",
   "execution_count": 130,
   "metadata": {},
   "outputs": [
    {
     "name": "stdout",
     "output_type": "stream",
     "text": [
      "Hey\n",
      "Guys\n",
      "This\n",
      "is\n",
      "Linus\n"
     ]
    }
   ],
   "source": [
    "array = ['Hey', 'Guys', 'This', 'is', 'Austin']\n",
    "\n",
    "for AustinSays in range(len(array)):\n",
    "    if array[AustinSays] == 'Austin':\n",
    "        print('Linus')\n",
    "    else:\n",
    "        print(array[AustinSays])"
   ]
  },
  {
   "cell_type": "code",
   "execution_count": 7,
   "metadata": {},
   "outputs": [
    {
     "name": "stdout",
     "output_type": "stream",
     "text": [
      "0 Hey\n",
      "1 Guys\n",
      "2 This\n",
      "3 is\n",
      "4 Austin\n",
      "Roll No 1 Belongs to Austin\n",
      "Roll No 2 Belongs to Linus\n",
      "Roll No 3 Belongs to Dave\n",
      "Roll No 4 Belongs to Matt\n",
      "Roll No 5 Belongs to MKBHD\n"
     ]
    }
   ],
   "source": [
    "array = ['Hey', 'Guys', 'This', 'is', 'Austin']\n",
    "\n",
    "for i, v in enumerate(array):\n",
    "    print(i, v)\n",
    "    \n",
    "array_no = [1, 2, 3, 4, 5, 6]\n",
    "array_names = [\"Austin\", \"Linus\", \"Dave\", \"Matt\", \"MKBHD\"]\n",
    "\n",
    "\n",
    "for i, v in zip(array_no, array_names):\n",
    "    print(\"Roll No {0} Belongs to {1}\".format(i, v))"
   ]
  },
  {
   "cell_type": "code",
   "execution_count": 131,
   "metadata": {},
   "outputs": [
    {
     "name": "stdout",
     "output_type": "stream",
     "text": [
      "['Austin', 'Guys', 'Hey', 'This', 'is']\n"
     ]
    }
   ],
   "source": [
    "array.sort()\n",
    "print(array)"
   ]
  },
  {
   "cell_type": "code",
   "execution_count": 132,
   "metadata": {},
   "outputs": [
    {
     "name": "stdout",
     "output_type": "stream",
     "text": [
      "[27, 10, 8, 5, 2]\n"
     ]
    }
   ],
   "source": [
    "int_array = [27, 5, 2, 8, 10]\n",
    "int_array.sort(reverse=True) #Make Copy if Original Has to Be Preserved\n",
    "print(int_array)"
   ]
  },
  {
   "cell_type": "code",
   "execution_count": 133,
   "metadata": {},
   "outputs": [
    {
     "name": "stdout",
     "output_type": "stream",
     "text": [
      "27\n",
      "10\n",
      "8\n",
      "5\n",
      "2\n",
      "True\n"
     ]
    }
   ],
   "source": [
    "for i in int_array:\n",
    "    print(i)\n",
    "    if i == 2:\n",
    "        present_no_2 = True\n",
    "\n",
    "print(present_no_2)"
   ]
  },
  {
   "cell_type": "code",
   "execution_count": 134,
   "metadata": {},
   "outputs": [
    {
     "data": {
      "text/plain": [
       "'HeyGuysThisisAustin'"
      ]
     },
     "execution_count": 134,
     "metadata": {},
     "output_type": "execute_result"
    }
   ],
   "source": [
    "array = ['Hey', 'Guys', 'This', 'is', 'Austin']\n",
    "\n",
    "joined_array = ''\n",
    "joined_array.join(array)"
   ]
  },
  {
   "cell_type": "code",
   "execution_count": 135,
   "metadata": {},
   "outputs": [
    {
     "name": "stdout",
     "output_type": "stream",
     "text": [
      "HeyGuysThisisAustin\n"
     ]
    }
   ],
   "source": [
    "array = ['Hey', 'Guys', 'This', 'is', 'Austin']\n",
    "another_way = ''.join(str(i) for i in array)\n",
    "\n",
    "print(another_way)"
   ]
  },
  {
   "cell_type": "code",
   "execution_count": 136,
   "metadata": {},
   "outputs": [
    {
     "name": "stdout",
     "output_type": "stream",
     "text": [
      "HeyGuysThisisAustin\n"
     ]
    }
   ],
   "source": [
    "string = ''\n",
    "for i in array:\n",
    "    string += i\n",
    "    \n",
    "print(string)"
   ]
  },
  {
   "cell_type": "markdown",
   "metadata": {},
   "source": [
    "## List Methods\n",
    "\n",
    "Source [W3Schools](https://www.w3schools.com/python/python_ref_list.asp)"
   ]
  },
  {
   "cell_type": "code",
   "execution_count": 14,
   "metadata": {},
   "outputs": [
    {
     "name": "stdout",
     "output_type": "stream",
     "text": [
      "3\n",
      "['Austin', 'austin', 'Guys', 'Linus', 'Linus', 'Linus', 'Dave']\n",
      "['Dave', 'Linus', 'Linus', 'Linus', 'Guys', 'austin', 'Austin']\n",
      "['Dave', 'Linus', 'Linus', 'Linus', 'austin', 'Austin']\n",
      "['Dave', 'Linus', 'Linus', 'austin', 'Austin']\n"
     ]
    }
   ],
   "source": [
    "list_of_string = ['Austin', 'austin', 'Guys', 'Linus', 'Linus', 'Linus']\n",
    "\n",
    "\n",
    "print(list_of_string.count('Linus'))\n",
    "\n",
    "list_of_string.append('Dave')\n",
    "print(list_of_string)\n",
    "\n",
    "list_of_string.reverse()\n",
    "print(list_of_string)\n",
    "\n",
    "list_of_string.remove(\"Guys\")\n",
    "print(list_of_string)\n",
    "\n",
    "list_of_string.pop(1)\n",
    "print(list_of_string)"
   ]
  },
  {
   "cell_type": "code",
   "execution_count": 138,
   "metadata": {},
   "outputs": [
    {
     "name": "stdout",
     "output_type": "stream",
     "text": [
      "[2, 23, 6]\n",
      "None\n",
      "[34, 23, 4]\n"
     ]
    },
    {
     "data": {
      "text/plain": [
       "1"
      ]
     },
     "execution_count": 138,
     "metadata": {},
     "output_type": "execute_result"
    }
   ],
   "source": [
    "list_of_numbers0 = [2, 23, 6]\n",
    "copy_list0 = list_of_numbers0.copy()\n",
    "print(copy_list0)\n",
    "\n",
    "copy_list0 = list_of_numbers0.clear()\n",
    "print(copy_list0)\n",
    "\n",
    "list_of_numbers1 = [34, 23, 4]\n",
    "\n",
    "list_of_numbers0.extend(list_of_numbers1)\n",
    "print(list_of_numbers0)\n",
    "\n",
    "list_of_numbers0.index(23)"
   ]
  },
  {
   "cell_type": "markdown",
   "metadata": {},
   "source": [
    "## String Methods\n",
    "\n",
    "Source [W3Schools](https://www.w3schools.com/python/python_ref_string.asp)"
   ]
  },
  {
   "cell_type": "code",
   "execution_count": 68,
   "metadata": {},
   "outputs": [
    {
     "data": {
      "text/plain": [
       "'Unwanted   Space'"
      ]
     },
     "execution_count": 68,
     "metadata": {},
     "output_type": "execute_result"
    }
   ],
   "source": [
    "string = \"  Unwanted   Space    \"\n",
    "\n",
    "string.lstrip()\n",
    "string.rstrip()\n",
    "string.strip()"
   ]
  },
  {
   "cell_type": "code",
   "execution_count": 69,
   "metadata": {},
   "outputs": [
    {
     "name": "stdout",
     "output_type": "stream",
     "text": [
      "['Hey', 'Guys,', 'this', 'is', 'linustechtips@gmail.com', 'writing', 'to', 'mysterytech@austin.com']\n",
      "There's is Austin\n",
      "2\n",
      "True\n",
      "This is Austin\n"
     ]
    }
   ],
   "source": [
    "random_string = \"Hey Guys, this is linustechtips@gmail.com writing to mysterytech@austin.com\"\n",
    "\n",
    "list_words = random_string.split()\n",
    "print(list_words)\n",
    "\n",
    "if random_string.find(\"Guys\") != -1:\n",
    "    print(\"There's is Austin\")\n",
    "    \n",
    "at_count = random_string.count('@')\n",
    "print(at_count)\n",
    "\n",
    "if random_string.startswith(\"Hey Guys\"):\n",
    "    print(random_string.startswith(\"Hey\"))\n",
    "    print(\"This is Austin\")"
   ]
  },
  {
   "cell_type": "code",
   "execution_count": null,
   "metadata": {},
   "outputs": [],
   "source": []
  },
  {
   "cell_type": "markdown",
   "metadata": {},
   "source": [
    "## Dictionary Methods\n",
    "\n",
    "Source [W3Schools](https://www.w3schools.com/python/python_ref_dictionary.asp)"
   ]
  },
  {
   "cell_type": "code",
   "execution_count": 20,
   "metadata": {},
   "outputs": [
    {
     "name": "stdout",
     "output_type": "stream",
     "text": [
      "{'money': 1500, 'cards': 3}\n",
      "1500\n"
     ]
    }
   ],
   "source": [
    "wallet = {} #or wallet = dict()\n",
    "wallet['money'] = 1000\n",
    "wallet['cards'] = 3\n",
    "\n",
    "wallet['money'] = wallet['money'] + 500\n",
    "\n",
    "print(wallet)\n",
    "print(wallet['money'])"
   ]
  },
  {
   "cell_type": "code",
   "execution_count": 19,
   "metadata": {},
   "outputs": [
    {
     "name": "stdout",
     "output_type": "stream",
     "text": [
      "{'money': 1000, 'cards': ['Canara Bank', 'SBI', 'cards']}\n"
     ]
    }
   ],
   "source": [
    "#Doing Within Dictionary\n",
    "\n",
    "wallet['cards'] = [\"Canara Bank\", \"SBI\"]\n",
    "wallet['cards'].append(\"cards\")\n",
    "\n",
    "print(wallet)"
   ]
  },
  {
   "cell_type": "code",
   "execution_count": 65,
   "metadata": {},
   "outputs": [
    {
     "name": "stdout",
     "output_type": "stream",
     "text": [
      "{'Austin': 1, 'austin': 1, 'Guys': 1, 'Linus': 3}\n",
      "None\n",
      "3\n",
      "0\n",
      "{'austin': 2, 'guys': 1, 'linus': 3}\n"
     ]
    }
   ],
   "source": [
    "list_of_string = ['Austin', 'austin', 'Guys', 'Linus', 'Linus', 'Linus']\n",
    "\n",
    "count = {}\n",
    "\n",
    "for i in list_of_string:\n",
    "    if i not in count:\n",
    "        count[i] = 1\n",
    "    else:\n",
    "        count[i] += 1\n",
    "\n",
    "print(count)\n",
    "\n",
    "print(count.get('linus'))\n",
    "print(count.get('linus'.capitalize()))\n",
    "print(count.get('linus', 0))\n",
    "\n",
    "\n",
    "new_count = {}\n",
    "for i in list_of_string:\n",
    "    j = i.lower()\n",
    "    new_count[j] = new_count.get(j, 0) + 1\n",
    "        \n",
    "print(new_count)"
   ]
  },
  {
   "cell_type": "code",
   "execution_count": 82,
   "metadata": {},
   "outputs": [
    {
     "name": "stdout",
     "output_type": "stream",
     "text": [
      "--- money 1500 ---\n",
      "--- cards 3 ---\n",
      "--- coins 10 ---\n",
      "dict_items([('money', 1500), ('cards', 3), ('coins', 10)])\n",
      "dict_keys(['money', 'cards', 'coins'])\n",
      "dict_values([1500, 3, 10])\n",
      "money 1500\n",
      "cards 3\n",
      "coins 10\n"
     ]
    }
   ],
   "source": [
    "wallet = {'money': 1500, 'cards': 3, 'coins': 10}\n",
    "\n",
    "for key in wallet:\n",
    "    print(\"---\", key, wallet[key], \"---\")\n",
    "\n",
    "    \n",
    "print(wallet.items())\n",
    "\n",
    "print(wallet.keys())\n",
    "\n",
    "print(wallet.values())\n",
    "\n",
    "\n",
    "for i, b in wallet.items():\n",
    "    print(i, b)"
   ]
  },
  {
   "cell_type": "code",
   "execution_count": null,
   "metadata": {},
   "outputs": [],
   "source": []
  },
  {
   "cell_type": "markdown",
   "metadata": {},
   "source": [
    "#### Try Except\n",
    "\n",
    "Source [W3Schools](https://www.w3schools.com/python/python_try_except.asp)"
   ]
  },
  {
   "cell_type": "code",
   "execution_count": 28,
   "metadata": {},
   "outputs": [
    {
     "name": "stdout",
     "output_type": "stream",
     "text": [
      "Key Probably Doesn't Exist\n",
      "Finally Finished\n"
     ]
    }
   ],
   "source": [
    "money = {}\n",
    "#oney = {'coins': 5}\n",
    "\n",
    "try:\n",
    "    print(money['coins'])\n",
    "except KeyError:\n",
    "    print(\"Key Probably Doesn't Exist\")\n",
    "else:\n",
    "    print(\"No Error\")\n",
    "finally:\n",
    "    print(\"Finally Finished\")"
   ]
  },
  {
   "cell_type": "markdown",
   "metadata": {},
   "source": [
    "## Tuple Methods\n",
    "\n",
    "Source [W3Schools](https://www.w3schools.com/python/python_ref_tuple.asp)"
   ]
  },
  {
   "cell_type": "code",
   "execution_count": 141,
   "metadata": {},
   "outputs": [
    {
     "data": {
      "text/plain": [
       "1"
      ]
     },
     "execution_count": 141,
     "metadata": {},
     "output_type": "execute_result"
    }
   ],
   "source": [
    "tuples = (2, 5, 6, 8, 8)\n",
    "\n",
    "tuples.count(2)\n",
    "\n",
    "#Note: list_of_tuples = [(3,6), (4, 5)]"
   ]
  },
  {
   "cell_type": "code",
   "execution_count": 142,
   "metadata": {},
   "outputs": [
    {
     "data": {
      "text/plain": [
       "1"
      ]
     },
     "execution_count": 142,
     "metadata": {},
     "output_type": "execute_result"
    }
   ],
   "source": [
    "tuples = (2, 5, 6, 8, 8)\n",
    "\n",
    "tuples.index(5)"
   ]
  },
  {
   "cell_type": "markdown",
   "metadata": {},
   "source": [
    "## Dictionary and Tuples"
   ]
  },
  {
   "cell_type": "code",
   "execution_count": 88,
   "metadata": {},
   "outputs": [
    {
     "name": "stdout",
     "output_type": "stream",
     "text": [
      "['cards', 'coins', 'money']\n",
      "[(1500, 'money'), (3, 'cards'), (10, 'coins')]\n",
      "[(3, 'cards'), (10, 'coins'), (1500, 'money')]\n"
     ]
    }
   ],
   "source": [
    "wallet = {'money': 1500, 'cards': 3, 'coins': 10}\n",
    "\n",
    "#Sorting a dictionary\n",
    "\n",
    "sorted_list_key = sorted(wallet)\n",
    "print(sorted_list_key)\n",
    "\n",
    "list_wallet = []\n",
    "for i, j in wallet.items():\n",
    "    list_wallet.append((j, i))\n",
    "\n",
    "print(list_wallet)\n",
    "\n",
    "sorted_list_value = sorted(list_wallet)\n",
    "print(sorted_list_value)\n"
   ]
  },
  {
   "cell_type": "code",
   "execution_count": 93,
   "metadata": {},
   "outputs": [
    {
     "name": "stdout",
     "output_type": "stream",
     "text": [
      "[(3, 'cards'), (10, 'coins'), (40, 'ticket'), (1500, 'money')]\n"
     ]
    }
   ],
   "source": [
    "#one liner (List Comprehension)\n",
    "\n",
    "wallet = {'money': 1500, 'cards': 3, 'coins': 10, 'ticket': 40}\n",
    "\n",
    "print(sorted([(j, i) for i, j in wallet.items()]))"
   ]
  }
 ],
 "metadata": {
  "kernelspec": {
   "display_name": "Python 3",
   "language": "python",
   "name": "python3"
  },
  "language_info": {
   "codemirror_mode": {
    "name": "ipython",
    "version": 3
   },
   "file_extension": ".py",
   "mimetype": "text/x-python",
   "name": "python",
   "nbconvert_exporter": "python",
   "pygments_lexer": "ipython3",
   "version": "3.8.2"
  }
 },
 "nbformat": 4,
 "nbformat_minor": 4
}
